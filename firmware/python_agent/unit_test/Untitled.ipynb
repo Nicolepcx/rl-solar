{
 "cells": [
  {
   "cell_type": "code",
   "execution_count": 122,
   "id": "24354528-907b-4290-9464-3e505e4f90ac",
   "metadata": {},
   "outputs": [],
   "source": [
    "import serial\n",
    "import time"
   ]
  },
  {
   "cell_type": "code",
   "execution_count": 123,
   "id": "4c204fcb-25e1-4fe7-8df2-0d9619d98a8f",
   "metadata": {},
   "outputs": [],
   "source": [
    "def read_serial_line(ser):\n",
    "    \"\"\"\n",
    "    Reads data from Serial (from Arduino)\n",
    "\n",
    "    Args:\n",
    "        ser(byte): Serial line from Arduino\n",
    "    Returns:\n",
    "        (str): The output of the line\n",
    "    \"\"\"\n",
    "    line = ser.readline()\n",
    "    line = line.decode(\"utf-8\")\n",
    "    data_line = line\n",
    "    line_output = data_line.strip()\n",
    "    return line_output"
   ]
  },
  {
   "cell_type": "markdown",
   "id": "10224f76-c66a-4c16-8347-42af95772b21",
   "metadata": {},
   "source": [
    "Initialize Serial port"
   ]
  },
  {
   "cell_type": "code",
   "execution_count": 124,
   "id": "93f86af3-b7d4-495d-b400-bfd582440065",
   "metadata": {},
   "outputs": [],
   "source": [
    "# Initialize serial port\n",
    "serial_port = '/dev/cu.usbmodem14101'\n",
    "baud_rate = 9600\n",
    "arduino = serial.Serial(port=serial_port, baudrate=baud_rate, timeout=1)\n",
    "arduino.flush()\n",
    "time.sleep(2)"
   ]
  },
  {
   "cell_type": "code",
   "execution_count": 139,
   "id": "2d62ff83-59bd-4652-a13f-b2231f90590e",
   "metadata": {},
   "outputs": [],
   "source": [
    "test_code = 5555\n",
    "expected_response = 1111"
   ]
  },
  {
   "cell_type": "code",
   "execution_count": 141,
   "id": "f01955b6-42a3-478c-b021-1589250a0f03",
   "metadata": {},
   "outputs": [
    {
     "name": "stdout",
     "output_type": "stream",
     "text": [
      "write time: 0.0011451244354248047\n",
      "read time: 2.044870138168335\n",
      "['1', '8888', '0']\n"
     ]
    }
   ],
   "source": [
    "write_start = time.time()\n",
    "arduino.write(str(test_code).encode())\n",
    "while arduino.out_waiting > 0:\n",
    "    time.sleep(0.1)\n",
    "    print('writing...')\n",
    "arduino.reset_output_buffer()\n",
    "print('write time:',time.time() - write_start)\n",
    "\n",
    "read_start = time.time()\n",
    "while arduino.in_waiting <= 0:\n",
    "    time.sleep(0.1)\n",
    "arduino_response = arduino.read_until('\\n').decode().strip().split(',')\n",
    "arduino.reset_input_buffer()\n",
    "print('read time:',time.time() - read_start)\n",
    "print(arduino_response)"
   ]
  }
 ],
 "metadata": {
  "kernelspec": {
   "display_name": "Python 3 (ipykernel)",
   "language": "python",
   "name": "python3"
  },
  "language_info": {
   "codemirror_mode": {
    "name": "ipython",
    "version": 3
   },
   "file_extension": ".py",
   "mimetype": "text/x-python",
   "name": "python",
   "nbconvert_exporter": "python",
   "pygments_lexer": "ipython3",
   "version": "3.7.0"
  }
 },
 "nbformat": 4,
 "nbformat_minor": 5
}
