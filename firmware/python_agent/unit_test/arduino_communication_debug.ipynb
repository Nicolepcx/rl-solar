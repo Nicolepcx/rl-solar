{
 "cells": [
  {
   "cell_type": "code",
   "execution_count": 1,
   "id": "24354528-907b-4290-9464-3e505e4f90ac",
   "metadata": {},
   "outputs": [],
   "source": [
    "import serial\n",
    "import time"
   ]
  },
  {
   "cell_type": "code",
   "execution_count": 2,
   "id": "ee82fb84-fa55-450e-8013-639c57e100cb",
   "metadata": {},
   "outputs": [],
   "source": [
    "END_CHAR = '>'\n",
    "MESSAGE_TERMINATOR = '\\n'"
   ]
  },
  {
   "cell_type": "code",
   "execution_count": 3,
   "id": "4c204fcb-25e1-4fe7-8df2-0d9619d98a8f",
   "metadata": {},
   "outputs": [],
   "source": [
    "def read_serial_line(ser):\n",
    "    \"\"\"\n",
    "    Reads data from Serial (from Arduino)\n",
    "\n",
    "    Args:\n",
    "        ser(byte): Serial line from Arduino\n",
    "    Returns:\n",
    "        (str): The output of the line\n",
    "    \"\"\"\n",
    "    line = ser.readline()\n",
    "    line = line.decode(\"utf-8\")\n",
    "    data_line = line\n",
    "    line_output = data_line.strip()\n",
    "    return line_output"
   ]
  },
  {
   "cell_type": "markdown",
   "id": "10224f76-c66a-4c16-8347-42af95772b21",
   "metadata": {},
   "source": [
    "Initialize Serial port"
   ]
  },
  {
   "cell_type": "code",
   "execution_count": 4,
   "id": "93f86af3-b7d4-495d-b400-bfd582440065",
   "metadata": {},
   "outputs": [],
   "source": [
    "# Initialize serial port\n",
    "serial_port = '/dev/cu.usbmodem14101'\n",
    "baud_rate = 9600\n",
    "arduino = serial.Serial(port=serial_port, baudrate=baud_rate, timeout=2)\n",
    "arduino.flush()\n",
    "time.sleep(2)"
   ]
  },
  {
   "cell_type": "markdown",
   "id": "1ded888c-d392-4e97-9aec-5d4c3e3037b2",
   "metadata": {},
   "source": [
    "### Long message testing\n",
    "Improves response time of Arduino"
   ]
  },
  {
   "cell_type": "code",
   "execution_count": 57,
   "id": "1db97ddc-35b4-45ad-a512-4c5cbe446bb4",
   "metadata": {},
   "outputs": [],
   "source": [
    "test_message = '100,200,300,400' + END_CHAR + MESSAGE_TERMINATOR\n",
    "read_timeout = 4"
   ]
  },
  {
   "cell_type": "code",
   "execution_count": 58,
   "id": "4a87c136-c7c9-4e6c-822c-946cf920943b",
   "metadata": {},
   "outputs": [
    {
     "name": "stdout",
     "output_type": "stream",
     "text": [
      "write time: 0.0006580352783203125\n",
      "read time: 0.05112314224243164\n",
      "['100', '200', '300', '400']\n"
     ]
    }
   ],
   "source": [
    "write_start = time.time()\n",
    "arduino.write(str(test_message).encode())\n",
    "while arduino.out_waiting > 0:\n",
    "    time.sleep(0.05)\n",
    "    print('writing...')\n",
    "arduino.reset_output_buffer()\n",
    "print('write time:',time.time() - write_start)\n",
    "\n",
    "read_start = time.time()\n",
    "while arduino.in_waiting <= 0 and time.time() - read_start < read_timeout:\n",
    "    time.sleep(0.05)\n",
    "arduino_response = arduino.readline().decode().strip().split(',')\n",
    "arduino.reset_input_buffer()\n",
    "print('read time:',time.time() - read_start)\n",
    "print(arduino_response)"
   ]
  },
  {
   "cell_type": "markdown",
   "id": "50dd7adb-1f5e-4fb1-899b-7c0b0c963872",
   "metadata": {},
   "source": [
    "### Single code testing"
   ]
  },
  {
   "cell_type": "code",
   "execution_count": 106,
   "id": "2d62ff83-59bd-4652-a13f-b2231f90590e",
   "metadata": {},
   "outputs": [],
   "source": [
    "test_code = 6666\n",
    "expected_response = 1111\n",
    "read_timeout = 4"
   ]
  },
  {
   "cell_type": "code",
   "execution_count": 107,
   "id": "f01955b6-42a3-478c-b021-1589250a0f03",
   "metadata": {},
   "outputs": [
    {
     "name": "stdout",
     "output_type": "stream",
     "text": [
      "write time: 0.0007159709930419922\n",
      "read time: 6.0183820724487305\n",
      "['']\n"
     ]
    }
   ],
   "source": [
    "write_start = time.time()\n",
    "arduino.write(str(test_code).encode())\n",
    "while arduino.out_waiting > 0:\n",
    "    time.sleep(0.05)\n",
    "    print('writing...')\n",
    "arduino.reset_output_buffer()\n",
    "print('write time:',time.time() - write_start)\n",
    "\n",
    "read_start = time.time()\n",
    "while arduino.in_waiting <= 0 and time.time() - read_start < read_timeout:\n",
    "    time.sleep(0.05)\n",
    "arduino_response = arduino.readline().decode().strip().split(',')\n",
    "arduino.reset_input_buffer()\n",
    "print('read time:',time.time() - read_start)\n",
    "print(arduino_response)"
   ]
  },
  {
   "cell_type": "code",
   "execution_count": null,
   "id": "fbba28ba-dac1-4794-a04c-1210498cc38f",
   "metadata": {},
   "outputs": [],
   "source": []
  }
 ],
 "metadata": {
  "kernelspec": {
   "display_name": "Python 3 (ipykernel)",
   "language": "python",
   "name": "python3"
  },
  "language_info": {
   "codemirror_mode": {
    "name": "ipython",
    "version": 3
   },
   "file_extension": ".py",
   "mimetype": "text/x-python",
   "name": "python",
   "nbconvert_exporter": "python",
   "pygments_lexer": "ipython3",
   "version": "3.7.0"
  }
 },
 "nbformat": 4,
 "nbformat_minor": 5
}
