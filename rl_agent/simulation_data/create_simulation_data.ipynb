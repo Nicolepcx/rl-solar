{
 "cells": [
  {
   "cell_type": "markdown",
   "id": "514bdba4-a45b-4251-910b-50aa2979b0f8",
   "metadata": {},
   "source": [
    "## Simulation Data Generation"
   ]
  },
  {
   "cell_type": "markdown",
   "id": "899ed513-6c9d-4d9c-b03f-0019de207d19",
   "metadata": {},
   "source": [
    "Set the name of the simulation run and output"
   ]
  },
  {
   "cell_type": "code",
   "execution_count": null,
   "id": "bbc9afa8-ffd0-4387-93a7-7526893923d8",
   "metadata": {},
   "outputs": [],
   "source": [
    "PATH_TO_SIM_FOLDER = 'data/initial_environments'\n",
    "SIMULATION_FILE_NAME = 'room_light_scan_3_23_22.csv'\n",
    "SERIAL_PORT = '/dev/cu.usbmodem2101'"
   ]
  },
  {
   "cell_type": "markdown",
   "id": "5d0061d3-e535-40da-b825-8b465af136f6",
   "metadata": {},
   "source": [
    "### Imports & Constants"
   ]
  },
  {
   "cell_type": "code",
   "execution_count": null,
   "id": "f938c4bc-21e7-4c41-91ba-1298c6e6ae12",
   "metadata": {},
   "outputs": [],
   "source": [
    "import serial\n",
    "import time\n",
    "import random\n",
    "import pandas as pd\n",
    "\n",
    "from tqdm import tqdm\n",
    "import plotly.express as px\n",
    "import plotly.io as pio\n",
    "import plotly.graph_objects as go"
   ]
  },
  {
   "cell_type": "code",
   "execution_count": null,
   "id": "ede50484-ebcd-4b20-8905-45577310cb59",
   "metadata": {},
   "outputs": [],
   "source": [
    "# Request codes\n",
    "MOTOR_CONTROL = 1000\n",
    "STATE_REQUEST = 2000\n",
    "RESET_CODE = 6666\n",
    "\n",
    "# Response codes\n",
    "NOMINAL = 1111\n",
    "ERROR = 9999\n",
    "\n",
    "# Constants for communication\n",
    "END_CHAR = '>'\n",
    "MESSAGE_TERMINATOR = '\\n'\n",
    "DELIMITER = ','\n",
    "RESPONSE_TIMEOUT = 3\n",
    "ABORT_TIMEOUT = 5"
   ]
  },
  {
   "cell_type": "markdown",
   "id": "49b31c21-e319-4ba3-996c-1e82d9650098",
   "metadata": {},
   "source": [
    "### Arduino Functions"
   ]
  },
  {
   "cell_type": "code",
   "execution_count": null,
   "id": "58c1503d-cfe6-4ee7-9707-7158e9d9792f",
   "metadata": {},
   "outputs": [],
   "source": [
    "def read_serial_line(serial_device: serial.Serial, print_message=True):\n",
    "    \"\"\"\n",
    "       Reads data from Serial (from Arduino) with a safe check for end char\n",
    "\n",
    "       Args:\n",
    "           serial_device (serial.Serial): The Serial device\n",
    "       Returns:\n",
    "           (str): The output of the line, or None if invalid message\n",
    "    \"\"\"\n",
    "    data_line = serial_device.readline().decode().strip()\n",
    "    if END_CHAR in data_line:\n",
    "        data_list = data_line.replace(END_CHAR, '').split(DELIMITER)\n",
    "    else:\n",
    "        data_list = None\n",
    "    if print_message:\n",
    "        print('Reading message: ' + str(data_list))\n",
    "    return data_list\n",
    "\n",
    "\n",
    "def write_serial_line(serial_device: serial.Serial, code_array, write_timeout=3, print_message=True):\n",
    "    \"\"\"\n",
    "    Args:\n",
    "        serial_device (serial.Serial): The Serial device\n",
    "        code_array (list): The sequence of codes/values to send to Arduino\n",
    "\n",
    "    Returns:\n",
    "        (bool): True for successful write, False for timeout\n",
    "\n",
    "    \"\"\"\n",
    "    message = ','.join([str(x) for x in code_array]) + END_CHAR + MESSAGE_TERMINATOR\n",
    "\n",
    "    # Track write time or timeout\n",
    "    write_success = True\n",
    "    write_start = time.time()\n",
    "    serial_device.write(str(message).encode())\n",
    "\n",
    "    # Attempt to write message\n",
    "    if print_message:\n",
    "        print('Writing serial message: ' + str(code_array))\n",
    "    while (serial_device.out_waiting > 0) and (time.time() - write_start < write_timeout):\n",
    "        time.sleep(0.05)\n",
    "    if (time.time() - write_start > write_timeout) and (serial_device.out_waiting > 0):\n",
    "        write_success = False\n",
    "\n",
    "    # Reset buffer\n",
    "    serial_device.reset_output_buffer()\n",
    "\n",
    "    return write_success\n",
    "\n",
    "\n",
    "def listen_for_serial(serial_device: serial.Serial):\n",
    "    # returns message, abort tuple\n",
    "    abort = False\n",
    "    message = None\n",
    "    wait_start = time.time()\n",
    "    while arduino.in_waiting <= 0 and time.time() - wait_start < RESPONSE_TIMEOUT:\n",
    "        time.sleep(0.001)\n",
    "    # Case for successful response\n",
    "    if arduino.in_waiting > 0:\n",
    "        message = map_message_to_dict(time.time(), read_serial_line(arduino, print_message=False))\n",
    "    # If no response, send a reset request\n",
    "    else:\n",
    "        print('WARNING: Arduino unresponsive, requesting reset...')\n",
    "        write_serial_line(arduino, [RESET_CODE])\n",
    "        # Verify the reset\n",
    "        wait_start = time.time()\n",
    "        while arduino.in_waiting <= 0 and time.time() - wait_start < RESPONSE_TIMEOUT:\n",
    "            time.sleep(0.005)\n",
    "        if arduino.in_waiting > 0:\n",
    "            print('SUCCESS: Arduino reset successfully.')\n",
    "            message = map_message_to_dict(time.time(), read_serial_line(arduino, print_message=False))\n",
    "        else:\n",
    "            print('FATAL ERROR: Arduino unresponsive to reset.')\n",
    "            abort = True\n",
    "    return message, abort\n",
    "\n",
    "\n",
    "def initialize_serial(serial_port='/dev/cu.usbmodem14101', baud_rate=9600, timeout=2):\n",
    "    serial_device = serial.Serial(port=serial_port, baudrate=baud_rate, timeout=timeout)\n",
    "    serial_device.flush()\n",
    "    time.sleep(2)\n",
    "    return serial_device\n",
    "\n",
    "\n",
    "def map_message_to_dict(timestamp, input_message):\n",
    "    final_dict = {}\n",
    "    if input_message is not None:\n",
    "        final_dict = {\n",
    "            'timestamp': timestamp,\n",
    "            'state': input_message[0],\n",
    "            'arduino_duration': input_message[1],\n",
    "            'motor_1_position': input_message[2],\n",
    "            'motor_2_position': input_message[3],\n",
    "            'I_ivp_1': input_message[4],\n",
    "            'V_ivp_1': input_message[5],\n",
    "            'P_ivp_1': input_message[6]\n",
    "        }\n",
    "    return final_dict\n",
    "\n",
    "\n",
    "def scan_space(arduino):\n",
    "    # Run start\n",
    "    run_start = time.time()\n",
    "    data_dict_list = []\n",
    "    last_motor_interval = 0\n",
    "    last_measure_interval = -1\n",
    "    motor_frequency = 2\n",
    "    measure_frequency = 1\n",
    "    # Set timeouts\n",
    "    abort = False\n",
    "    \n",
    "    for xy_degree in tqdm(range(0, 181, 5)):\n",
    "        for yz_degree in range(0, 181, 5):\n",
    "            write_serial_line(arduino, [MOTOR_CONTROL, xy_degree, yz_degree], print_message=False)\n",
    "            new_message, abort = listen_for_serial(arduino)\n",
    "            if new_message is not None and not abort:\n",
    "                data_dict_list.append(new_message)\n",
    "            elif abort:\n",
    "                break\n",
    "            else:\n",
    "                print('Empty message received without abort issue')\n",
    "            time.sleep(0.1) # Wait for steady state\n",
    "        if abort:\n",
    "            break\n",
    "        # print('xy:',xy_degree,'yz:',yz_degree) -- replaced with tqdm\n",
    "    # Write back to start state\n",
    "    write_serial_line(arduino, [MOTOR_CONTROL, 90, 90])\n",
    "\n",
    "    return pd.DataFrame(data_dict_list)\n",
    "\n",
    "def load_and_visualize_data_adjusted(data_path):\n",
    "    raw_df = pd.read_csv(data_path)\n",
    "    data_df = raw_df.copy()\n",
    "    \n",
    "    # Make current positive\n",
    "    data_df['I_ivp_1'] = data_df['I_ivp_1'].abs()\n",
    "    data_df['power'] = data_df['I_ivp_1'] * data_df['V_ivp_1']\n",
    "    \n",
    "    # Generate data for visualization\n",
    "    viz_df = data_df[['power', 'motor_1_position', 'motor_2_position']]\n",
    "    viz_df = viz_df.drop_duplicates(subset=['motor_1_position', 'motor_2_position'])\n",
    "    viz_df = viz_df.sort_values(by=['motor_1_position','motor_2_position'])\n",
    "    fig = px.scatter_3d(viz_df, x='motor_1_position', y='motor_2_position', z='power',\n",
    "                      color='power', opacity=1, width=600, height=600)#, #size_max=10, # size='power',\n",
    "                   #range_z=[0,0.015], range_color=[0,0.015])\n",
    "    fig.update_traces(marker={'size': 5})\n",
    "    fig.show()"
   ]
  },
  {
   "cell_type": "markdown",
   "id": "c9b0601c-d964-42d9-bdcb-1af2d3476a9d",
   "metadata": {},
   "source": [
    "### Simulation Gen\n",
    "Run the below code to generate and save simulation data"
   ]
  },
  {
   "cell_type": "code",
   "execution_count": null,
   "id": "9ecf1593-ca4d-4261-8072-dbf053a86ba0",
   "metadata": {
    "tags": []
   },
   "outputs": [],
   "source": [
    "# Connect to Arduino\n",
    "print('\\nARDUINO CONTROL TESTING')\n",
    "print('-------------------------')\n",
    "# Initialize serial port\n",
    "print('\\nIniitalizing device...')\n",
    "serial_port = SERIAL_PORT\n",
    "baud_rate = 9600\n",
    "timeout = 5\n",
    "arduino = initialize_serial(serial_port=serial_port, baud_rate=baud_rate, timeout=timeout)\n",
    "print('\\t - SUCCESS: Device initialized.')\n",
    "\n",
    "write_serial_line(arduino, [MOTOR_CONTROL, 90, 90], print_message=True)"
   ]
  },
  {
   "cell_type": "code",
   "execution_count": null,
   "id": "4ac7212f-38cf-473a-9659-4bd186ce62fa",
   "metadata": {
    "tags": []
   },
   "outputs": [],
   "source": [
    "# Run a loop where motor position incremented every 5 seconds, print out message\n",
    "print('\\nBeginning loop sequence...')\n",
    "data = scan_space(arduino)\n",
    "print('\\t - Loop complete.')\n",
    "\n",
    "# Add relative time to returned data and print out\n",
    "data['t_relative'] = data['timestamp'] - data['timestamp'].iloc[0]\n",
    "print('\\nData broadcasted by Arduino:\\n')\n",
    "\n",
    "print('\\nWriting data to ' + PATH_TO_SIM_FOLDER + '/' + SIMULATION_FILE_NAME + '...')\n",
    "data.to_csv(PATH_TO_SIM_FOLDER + '/' + SIMULATION_FILE_NAME, index=False)\n",
    "print('\\t - SUCCESS: Data written.')"
   ]
  },
  {
   "cell_type": "markdown",
   "id": "eab7be15-3112-4a15-b03e-ebc401c41f6c",
   "metadata": {},
   "source": [
    "### Visualize Data\n",
    "Run the below cell to visualize the simulation data that was just collected"
   ]
  },
  {
   "cell_type": "code",
   "execution_count": null,
   "id": "365944da-7063-4378-b6a7-c3d9b76b8ca0",
   "metadata": {},
   "outputs": [],
   "source": [
    "load_and_visualize_data_adjusted(PATH_TO_SIM_FOLDER + '/' + SIMULATION_FILE_NAME)"
   ]
  },
  {
   "cell_type": "markdown",
   "id": "cb1cd50f-5a47-4e35-8192-9242d7096d5e",
   "metadata": {},
   "source": [
    "Optionally, reset the position of the solar panel, or request positions to validate data"
   ]
  },
  {
   "cell_type": "code",
   "execution_count": null,
   "id": "f7cf7959-f07a-451a-8a90-7ecd25a70a7a",
   "metadata": {},
   "outputs": [],
   "source": [
    "write_serial_line(arduino, [MOTOR_CONTROL, 90, 90])"
   ]
  }
 ],
 "metadata": {
  "kernelspec": {
   "display_name": "Python 3 (ipykernel)",
   "language": "python",
   "name": "python3"
  },
  "language_info": {
   "codemirror_mode": {
    "name": "ipython",
    "version": 3
   },
   "file_extension": ".py",
   "mimetype": "text/x-python",
   "name": "python",
   "nbconvert_exporter": "python",
   "pygments_lexer": "ipython3",
   "version": "3.9.9"
  }
 },
 "nbformat": 4,
 "nbformat_minor": 5
}
