{
 "cells": [
  {
   "cell_type": "markdown",
   "id": "514bdba4-a45b-4251-910b-50aa2979b0f8",
   "metadata": {},
   "source": [
    "## Simulation Data Generation"
   ]
  },
  {
   "cell_type": "markdown",
   "id": "899ed513-6c9d-4d9c-b03f-0019de207d19",
   "metadata": {},
   "source": [
    "Set the name of the simulation run and output"
   ]
  },
  {
   "cell_type": "code",
   "execution_count": 5,
   "id": "bbc9afa8-ffd0-4387-93a7-7526893923d8",
   "metadata": {},
   "outputs": [],
   "source": [
    "PATH_TO_SIM_FOLDER = '../data/initial_environments'\n",
    "SIMULATION_FILE_NAME = 'my_test_run.csv'"
   ]
  },
  {
   "cell_type": "markdown",
   "id": "5d0061d3-e535-40da-b825-8b465af136f6",
   "metadata": {},
   "source": [
    "### Imports & Constants"
   ]
  },
  {
   "cell_type": "code",
   "execution_count": 8,
   "id": "f938c4bc-21e7-4c41-91ba-1298c6e6ae12",
   "metadata": {},
   "outputs": [],
   "source": [
    "import serial\n",
    "import time\n",
    "import random\n",
    "import pandas as pd\n",
    "\n",
    "import tqdm\n",
    "import plotly.express as px\n",
    "import plotly.io as pio"
   ]
  },
  {
   "cell_type": "code",
   "execution_count": 3,
   "id": "ede50484-ebcd-4b20-8905-45577310cb59",
   "metadata": {},
   "outputs": [],
   "source": [
    "# Request codes\n",
    "MOTOR_CONTROL = 1000\n",
    "STATE_REQUEST = 2000\n",
    "RESET_CODE = 6666\n",
    "\n",
    "# Response codes\n",
    "NOMINAL = 1111\n",
    "ERROR = 9999\n",
    "\n",
    "# Constants for communication\n",
    "END_CHAR = '>'\n",
    "MESSAGE_TERMINATOR = '\\n'\n",
    "DELIMITER = ','\n",
    "RESPONSE_TIMEOUT = 3\n",
    "ABORT_TIMEOUT = 5"
   ]
  },
  {
   "cell_type": "markdown",
   "id": "49b31c21-e319-4ba3-996c-1e82d9650098",
   "metadata": {},
   "source": [
    "### Arduino Functions"
   ]
  },
  {
   "cell_type": "code",
   "execution_count": 7,
   "id": "58c1503d-cfe6-4ee7-9707-7158e9d9792f",
   "metadata": {},
   "outputs": [],
   "source": [
    "def read_serial_line(serial_device: serial.Serial, print_message=True):\n",
    "    \"\"\"\n",
    "       Reads data from Serial (from Arduino) with a safe check for end char\n",
    "\n",
    "       Args:\n",
    "           serial_device (serial.Serial): The Serial device\n",
    "       Returns:\n",
    "           (str): The output of the line, or None if invalid message\n",
    "    \"\"\"\n",
    "    data_line = serial_device.readline().decode().strip()\n",
    "    if END_CHAR in data_line:\n",
    "        data_list = data_line.replace(END_CHAR, '').split(DELIMITER)\n",
    "    else:\n",
    "        data_list = None\n",
    "    if print_message:\n",
    "        print('Reading message: ' + str(data_list))\n",
    "    return data_list\n",
    "\n",
    "\n",
    "def write_serial_line(serial_device: serial.Serial, code_array, write_timeout=3, print_message=True):\n",
    "    \"\"\"\n",
    "    Args:\n",
    "        serial_device (serial.Serial): The Serial device\n",
    "        code_array (list): The sequence of codes/values to send to Arduino\n",
    "\n",
    "    Returns:\n",
    "        (bool): True for successful write, False for timeout\n",
    "\n",
    "    \"\"\"\n",
    "    message = ','.join([str(x) for x in code_array]) + END_CHAR + MESSAGE_TERMINATOR\n",
    "\n",
    "    # Track write time or timeout\n",
    "    write_success = True\n",
    "    write_start = time.time()\n",
    "    serial_device.write(str(message).encode())\n",
    "\n",
    "    # Attempt to write message\n",
    "    if print_message:\n",
    "        print('Writing serial message: ' + str(code_array))\n",
    "    while (serial_device.out_waiting > 0) and (time.time() - write_start < write_timeout):\n",
    "        time.sleep(0.05)\n",
    "    if (time.time() - write_start > write_timeout) and (serial_device.out_waiting > 0):\n",
    "        write_success = False\n",
    "\n",
    "    # Reset buffer\n",
    "    serial_device.reset_output_buffer()\n",
    "\n",
    "    return write_success\n",
    "\n",
    "\n",
    "def listen_for_serial(serial_device: serial.Serial):\n",
    "    # returns message, abort tuple\n",
    "    abort = False\n",
    "    message = None\n",
    "    wait_start = time.time()\n",
    "    while arduino.in_waiting <= 0 and time.time() - wait_start < RESPONSE_TIMEOUT:\n",
    "        time.sleep(0.001)\n",
    "    # Case for successful response\n",
    "    if arduino.in_waiting > 0:\n",
    "        message = map_message_to_dict(time.time(), read_serial_line(arduino, print_message=False))\n",
    "    # If no response, send a reset request\n",
    "    else:\n",
    "        print('WARNING: Arduino unresponsive, requesting reset...')\n",
    "        write_serial_line(arduino, [RESET_CODE])\n",
    "        # Verify the reset\n",
    "        wait_start = time.time()\n",
    "        while arduino.in_waiting <= 0 and time.time() - wait_start < RESPONSE_TIMEOUT:\n",
    "            time.sleep(0.005)\n",
    "        if arduino.in_waiting > 0:\n",
    "            print('SUCCESS: Arduino reset successfully.')\n",
    "            message = map_message_to_dict(time.time(), read_serial_line(arduino, print_message=False))\n",
    "        else:\n",
    "            print('FATAL ERROR: Arduino unresponsive to reset.')\n",
    "            abort = True\n",
    "    return message, abort\n",
    "\n",
    "\n",
    "def initialize_serial(serial_port='/dev/cu.usbmodem14101', baud_rate=9600, timeout=2):\n",
    "    serial_device = serial.Serial(port=serial_port, baudrate=baud_rate, timeout=timeout)\n",
    "    serial_device.flush()\n",
    "    time.sleep(2)\n",
    "    return serial_device\n",
    "\n",
    "\n",
    "def map_message_to_dict(timestamp, input_message):\n",
    "    final_dict = {}\n",
    "    if input_message is not None:\n",
    "        final_dict = {\n",
    "            'timestamp': timestamp,\n",
    "            'state': input_message[0],\n",
    "            'arduino_duration': input_message[1],\n",
    "            'motor_1_position': input_message[2],\n",
    "            'motor_2_position': input_message[3],\n",
    "            'I_ivp_1': input_message[4],\n",
    "            'V_ivp_1': input_message[5],\n",
    "            'P_ivp_1': input_message[6]\n",
    "        }\n",
    "    return final_dict\n",
    "\n",
    "\n",
    "def scan_space(arduino):\n",
    "    # Run start\n",
    "    run_start = time.time()\n",
    "    data_dict_list = []\n",
    "    last_motor_interval = 0\n",
    "    last_measure_interval = -1\n",
    "    motor_frequency = 2\n",
    "    measure_frequency = 1\n",
    "    # Set timeouts\n",
    "    abort = False\n",
    "    \n",
    "    for xy_degree in tqdm(range(0, 181, 5)):\n",
    "        for yz_degree in range(0, 181, 5):\n",
    "            write_serial_line(arduino, [MOTOR_CONTROL, xy_degree, yz_degree], print_message=False)\n",
    "            new_message, abort = listen_for_serial(arduino)\n",
    "            if new_message is not None and not abort:\n",
    "                data_dict_list.append(new_message)\n",
    "            elif abort:\n",
    "                break\n",
    "            else:\n",
    "                print('Empty message received without abort issue')\n",
    "            time.sleep(0.1) # Wait for steady state\n",
    "        if abort:\n",
    "            break\n",
    "        # print('xy:',xy_degree,'yz:',yz_degree) -- replaced with tqdm\n",
    "    # Write back to start state\n",
    "    write_serial_line(arduino, [MOTOR_CONTROL, 90, 90])\n",
    "\n",
    "    return pd.DataFrame(data_dict_list)"
   ]
  },
  {
   "cell_type": "markdown",
   "id": "c9b0601c-d964-42d9-bdcb-1af2d3476a9d",
   "metadata": {},
   "source": [
    "### Simulation Gen"
   ]
  },
  {
   "cell_type": "code",
   "execution_count": 6,
   "id": "07994661-9e43-4372-b543-b2641c5cad29",
   "metadata": {},
   "outputs": [
    {
     "name": "stdout",
     "output_type": "stream",
     "text": [
      "\n",
      "ARDUINO CONTROL TESTING\n",
      "-------------------------\n",
      "\n",
      "Iniitalizing device...\n"
     ]
    },
    {
     "ename": "SerialException",
     "evalue": "[Errno 2] could not open port /dev/cu.usbmodem14101: [Errno 2] No such file or directory: '/dev/cu.usbmodem14101'",
     "output_type": "error",
     "traceback": [
      "\u001b[0;31m---------------------------------------------------------------------------\u001b[0m",
      "\u001b[0;31mFileNotFoundError\u001b[0m                         Traceback (most recent call last)",
      "\u001b[0;32m~/Git/venv/rl-solar-venv/lib/python3.9/site-packages/serial/serialposix.py\u001b[0m in \u001b[0;36mopen\u001b[0;34m(self)\u001b[0m\n\u001b[1;32m    321\u001b[0m         \u001b[0;32mtry\u001b[0m\u001b[0;34m:\u001b[0m\u001b[0;34m\u001b[0m\u001b[0;34m\u001b[0m\u001b[0m\n\u001b[0;32m--> 322\u001b[0;31m             \u001b[0mself\u001b[0m\u001b[0;34m.\u001b[0m\u001b[0mfd\u001b[0m \u001b[0;34m=\u001b[0m \u001b[0mos\u001b[0m\u001b[0;34m.\u001b[0m\u001b[0mopen\u001b[0m\u001b[0;34m(\u001b[0m\u001b[0mself\u001b[0m\u001b[0;34m.\u001b[0m\u001b[0mportstr\u001b[0m\u001b[0;34m,\u001b[0m \u001b[0mos\u001b[0m\u001b[0;34m.\u001b[0m\u001b[0mO_RDWR\u001b[0m \u001b[0;34m|\u001b[0m \u001b[0mos\u001b[0m\u001b[0;34m.\u001b[0m\u001b[0mO_NOCTTY\u001b[0m \u001b[0;34m|\u001b[0m \u001b[0mos\u001b[0m\u001b[0;34m.\u001b[0m\u001b[0mO_NONBLOCK\u001b[0m\u001b[0;34m)\u001b[0m\u001b[0;34m\u001b[0m\u001b[0;34m\u001b[0m\u001b[0m\n\u001b[0m\u001b[1;32m    323\u001b[0m         \u001b[0;32mexcept\u001b[0m \u001b[0mOSError\u001b[0m \u001b[0;32mas\u001b[0m \u001b[0mmsg\u001b[0m\u001b[0;34m:\u001b[0m\u001b[0;34m\u001b[0m\u001b[0;34m\u001b[0m\u001b[0m\n",
      "\u001b[0;31mFileNotFoundError\u001b[0m: [Errno 2] No such file or directory: '/dev/cu.usbmodem14101'",
      "\nDuring handling of the above exception, another exception occurred:\n",
      "\u001b[0;31mSerialException\u001b[0m                           Traceback (most recent call last)",
      "\u001b[0;32m/var/folders/dp/6sqydsrn6cg_dxrzkzsxc9kh0000gn/T/ipykernel_12062/987275815.py\u001b[0m in \u001b[0;36m<module>\u001b[0;34m\u001b[0m\n\u001b[1;32m      7\u001b[0m     \u001b[0mbaud_rate\u001b[0m \u001b[0;34m=\u001b[0m \u001b[0;36m9600\u001b[0m\u001b[0;34m\u001b[0m\u001b[0;34m\u001b[0m\u001b[0m\n\u001b[1;32m      8\u001b[0m     \u001b[0mtimeout\u001b[0m \u001b[0;34m=\u001b[0m \u001b[0;36m5\u001b[0m\u001b[0;34m\u001b[0m\u001b[0;34m\u001b[0m\u001b[0m\n\u001b[0;32m----> 9\u001b[0;31m     \u001b[0marduino\u001b[0m \u001b[0;34m=\u001b[0m \u001b[0minitialize_serial\u001b[0m\u001b[0;34m(\u001b[0m\u001b[0mserial_port\u001b[0m\u001b[0;34m=\u001b[0m\u001b[0mserial_port\u001b[0m\u001b[0;34m,\u001b[0m \u001b[0mbaud_rate\u001b[0m\u001b[0;34m=\u001b[0m\u001b[0mbaud_rate\u001b[0m\u001b[0;34m,\u001b[0m \u001b[0mtimeout\u001b[0m\u001b[0;34m=\u001b[0m\u001b[0mtimeout\u001b[0m\u001b[0;34m)\u001b[0m\u001b[0;34m\u001b[0m\u001b[0;34m\u001b[0m\u001b[0m\n\u001b[0m\u001b[1;32m     10\u001b[0m     \u001b[0mprint\u001b[0m\u001b[0;34m(\u001b[0m\u001b[0;34m'\\t - SUCCESS: Device initialized.'\u001b[0m\u001b[0;34m)\u001b[0m\u001b[0;34m\u001b[0m\u001b[0;34m\u001b[0m\u001b[0m\n\u001b[1;32m     11\u001b[0m \u001b[0;34m\u001b[0m\u001b[0m\n",
      "\u001b[0;32m/var/folders/dp/6sqydsrn6cg_dxrzkzsxc9kh0000gn/T/ipykernel_12062/3167574118.py\u001b[0m in \u001b[0;36minitialize_serial\u001b[0;34m(serial_port, baud_rate, timeout)\u001b[0m\n\u001b[1;32m     94\u001b[0m \u001b[0;34m\u001b[0m\u001b[0m\n\u001b[1;32m     95\u001b[0m \u001b[0;32mdef\u001b[0m \u001b[0minitialize_serial\u001b[0m\u001b[0;34m(\u001b[0m\u001b[0mserial_port\u001b[0m\u001b[0;34m=\u001b[0m\u001b[0;34m'/dev/cu.usbmodem14101'\u001b[0m\u001b[0;34m,\u001b[0m \u001b[0mbaud_rate\u001b[0m\u001b[0;34m=\u001b[0m\u001b[0;36m9600\u001b[0m\u001b[0;34m,\u001b[0m \u001b[0mtimeout\u001b[0m\u001b[0;34m=\u001b[0m\u001b[0;36m2\u001b[0m\u001b[0;34m)\u001b[0m\u001b[0;34m:\u001b[0m\u001b[0;34m\u001b[0m\u001b[0;34m\u001b[0m\u001b[0m\n\u001b[0;32m---> 96\u001b[0;31m     \u001b[0mserial_device\u001b[0m \u001b[0;34m=\u001b[0m \u001b[0mserial\u001b[0m\u001b[0;34m.\u001b[0m\u001b[0mSerial\u001b[0m\u001b[0;34m(\u001b[0m\u001b[0mport\u001b[0m\u001b[0;34m=\u001b[0m\u001b[0mserial_port\u001b[0m\u001b[0;34m,\u001b[0m \u001b[0mbaudrate\u001b[0m\u001b[0;34m=\u001b[0m\u001b[0mbaud_rate\u001b[0m\u001b[0;34m,\u001b[0m \u001b[0mtimeout\u001b[0m\u001b[0;34m=\u001b[0m\u001b[0mtimeout\u001b[0m\u001b[0;34m)\u001b[0m\u001b[0;34m\u001b[0m\u001b[0;34m\u001b[0m\u001b[0m\n\u001b[0m\u001b[1;32m     97\u001b[0m     \u001b[0mserial_device\u001b[0m\u001b[0;34m.\u001b[0m\u001b[0mflush\u001b[0m\u001b[0;34m(\u001b[0m\u001b[0;34m)\u001b[0m\u001b[0;34m\u001b[0m\u001b[0;34m\u001b[0m\u001b[0m\n\u001b[1;32m     98\u001b[0m     \u001b[0mtime\u001b[0m\u001b[0;34m.\u001b[0m\u001b[0msleep\u001b[0m\u001b[0;34m(\u001b[0m\u001b[0;36m2\u001b[0m\u001b[0;34m)\u001b[0m\u001b[0;34m\u001b[0m\u001b[0;34m\u001b[0m\u001b[0m\n",
      "\u001b[0;32m~/Git/venv/rl-solar-venv/lib/python3.9/site-packages/serial/serialutil.py\u001b[0m in \u001b[0;36m__init__\u001b[0;34m(self, port, baudrate, bytesize, parity, stopbits, timeout, xonxoff, rtscts, write_timeout, dsrdtr, inter_byte_timeout, exclusive, **kwargs)\u001b[0m\n\u001b[1;32m    242\u001b[0m \u001b[0;34m\u001b[0m\u001b[0m\n\u001b[1;32m    243\u001b[0m         \u001b[0;32mif\u001b[0m \u001b[0mport\u001b[0m \u001b[0;32mis\u001b[0m \u001b[0;32mnot\u001b[0m \u001b[0;32mNone\u001b[0m\u001b[0;34m:\u001b[0m\u001b[0;34m\u001b[0m\u001b[0;34m\u001b[0m\u001b[0m\n\u001b[0;32m--> 244\u001b[0;31m             \u001b[0mself\u001b[0m\u001b[0;34m.\u001b[0m\u001b[0mopen\u001b[0m\u001b[0;34m(\u001b[0m\u001b[0;34m)\u001b[0m\u001b[0;34m\u001b[0m\u001b[0;34m\u001b[0m\u001b[0m\n\u001b[0m\u001b[1;32m    245\u001b[0m \u001b[0;34m\u001b[0m\u001b[0m\n\u001b[1;32m    246\u001b[0m     \u001b[0;31m#  -  -  -  -  -  -  -  -  -  -  -  -  -  -  -  -  -  -  -  -  -  -  -  -\u001b[0m\u001b[0;34m\u001b[0m\u001b[0;34m\u001b[0m\u001b[0m\n",
      "\u001b[0;32m~/Git/venv/rl-solar-venv/lib/python3.9/site-packages/serial/serialposix.py\u001b[0m in \u001b[0;36mopen\u001b[0;34m(self)\u001b[0m\n\u001b[1;32m    323\u001b[0m         \u001b[0;32mexcept\u001b[0m \u001b[0mOSError\u001b[0m \u001b[0;32mas\u001b[0m \u001b[0mmsg\u001b[0m\u001b[0;34m:\u001b[0m\u001b[0;34m\u001b[0m\u001b[0;34m\u001b[0m\u001b[0m\n\u001b[1;32m    324\u001b[0m             \u001b[0mself\u001b[0m\u001b[0;34m.\u001b[0m\u001b[0mfd\u001b[0m \u001b[0;34m=\u001b[0m \u001b[0;32mNone\u001b[0m\u001b[0;34m\u001b[0m\u001b[0;34m\u001b[0m\u001b[0m\n\u001b[0;32m--> 325\u001b[0;31m             \u001b[0;32mraise\u001b[0m \u001b[0mSerialException\u001b[0m\u001b[0;34m(\u001b[0m\u001b[0mmsg\u001b[0m\u001b[0;34m.\u001b[0m\u001b[0merrno\u001b[0m\u001b[0;34m,\u001b[0m \u001b[0;34m\"could not open port {}: {}\"\u001b[0m\u001b[0;34m.\u001b[0m\u001b[0mformat\u001b[0m\u001b[0;34m(\u001b[0m\u001b[0mself\u001b[0m\u001b[0;34m.\u001b[0m\u001b[0m_port\u001b[0m\u001b[0;34m,\u001b[0m \u001b[0mmsg\u001b[0m\u001b[0;34m)\u001b[0m\u001b[0;34m)\u001b[0m\u001b[0;34m\u001b[0m\u001b[0;34m\u001b[0m\u001b[0m\n\u001b[0m\u001b[1;32m    326\u001b[0m         \u001b[0;31m#~ fcntl.fcntl(self.fd, fcntl.F_SETFL, 0)  # set blocking\u001b[0m\u001b[0;34m\u001b[0m\u001b[0;34m\u001b[0m\u001b[0m\n\u001b[1;32m    327\u001b[0m \u001b[0;34m\u001b[0m\u001b[0m\n",
      "\u001b[0;31mSerialException\u001b[0m: [Errno 2] could not open port /dev/cu.usbmodem14101: [Errno 2] No such file or directory: '/dev/cu.usbmodem14101'"
     ]
    }
   ],
   "source": [
    "if __name__ == '__main__':\n",
    "    print('\\nARDUINO CONTROL TESTING')\n",
    "    print('-------------------------')\n",
    "    # Initialize serial port\n",
    "    print('\\nIniitalizing device...')\n",
    "    serial_port = '/dev/cu.usbmodem14101'\n",
    "    baud_rate = 9600\n",
    "    timeout = 5\n",
    "    arduino = initialize_serial(serial_port=serial_port, baud_rate=baud_rate, timeout=timeout)\n",
    "    print('\\t - SUCCESS: Device initialized.')\n",
    "    \n",
    "    write_serial_line(arduino, [MOTOR_CONTROL, 90, 90])\n",
    "\n",
    "    # Run a loop where motor position incremented every 5 seconds, print out message\n",
    "    print('\\nBeginning loop sequence...')\n",
    "    data = scan_space(arduino)\n",
    "    print('\\t - Loop complete.')\n",
    "\n",
    "    # Add relative time to returned data and print out\n",
    "    data['t_relative'] = data['timestamp'] - data['timestamp'].iloc[0]\n",
    "    print('\\nData broadcasted by Arduino:\\n')\n",
    "    \n",
    "    data.to_csv(PATH_TO_SIM_FOLDER + '/' + SIMULATION_FILE_NAME, index=False)"
   ]
  },
  {
   "cell_type": "code",
   "execution_count": null,
   "id": "6d3e08c6-02c9-4216-80d9-4968f08b292b",
   "metadata": {},
   "outputs": [],
   "source": []
  }
 ],
 "metadata": {
  "kernelspec": {
   "display_name": "Python 3 (ipykernel)",
   "language": "python",
   "name": "python3"
  },
  "language_info": {
   "codemirror_mode": {
    "name": "ipython",
    "version": 3
   },
   "file_extension": ".py",
   "mimetype": "text/x-python",
   "name": "python",
   "nbconvert_exporter": "python",
   "pygments_lexer": "ipython3",
   "version": "3.9.9"
  }
 },
 "nbformat": 4,
 "nbformat_minor": 5
}
