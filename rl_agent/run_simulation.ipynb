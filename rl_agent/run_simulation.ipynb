{
 "cells": [
  {
   "cell_type": "markdown",
   "id": "dd3b02a3-d72a-48da-96d2-2a759c8d679b",
   "metadata": {},
   "source": [
    "# Simulation Notebook"
   ]
  },
  {
   "cell_type": "markdown",
   "id": "3a778b96-aa19-498b-a4a7-8dcf98669976",
   "metadata": {},
   "source": [
    "Runs a simulation for an agent with defined hyperparameters"
   ]
  },
  {
   "cell_type": "markdown",
   "id": "7d78369e-2a7b-413c-991d-a62517a76a07",
   "metadata": {
    "tags": []
   },
   "source": [
    "## Imports"
   ]
  },
  {
   "cell_type": "code",
   "execution_count": null,
   "id": "3ef540e1-aa5b-4d22-bd52-5f265db59d69",
   "metadata": {},
   "outputs": [],
   "source": [
    "import serial\n",
    "import time\n",
    "import random\n",
    "import multiprocessing as mp\n",
    "import visualizations\n",
    "import copy\n",
    "\n",
    "import pandas as pd\n",
    "import numpy as np\n",
    "\n",
    "import plotly.express as px\n",
    "import plotly.io as pio\n",
    "import plotly.graph_objects as go\n",
    "from plotly.subplots import make_subplots\n",
    "\n",
    "import tqdm\n",
    "from tqdm import tqdm\n",
    "\n",
    "# Module imports\n",
    "import rl_agent\n",
    "from rl_agent import SoftmaxAgent\n",
    "\n",
    "import solar_env\n",
    "from solar_env import SolarEnv\n",
    "\n",
    "import experiment_functions as ef"
   ]
  },
  {
   "cell_type": "code",
   "execution_count": null,
   "id": "864b55cb-8b6e-418c-a648-1258cd71ac18",
   "metadata": {},
   "outputs": [],
   "source": [
    "# Declare random seed\n",
    "RANDOM_SEED = 1"
   ]
  },
  {
   "cell_type": "code",
   "execution_count": null,
   "id": "d42061a2-d225-4c81-8d3b-d5060d350b20",
   "metadata": {},
   "outputs": [],
   "source": [
    "# Set cache dir\n",
    "CACHE_DIR = '_ignore'"
   ]
  },
  {
   "cell_type": "markdown",
   "id": "db57b08c-59d0-4269-a63f-74a2f34582d2",
   "metadata": {
    "tags": []
   },
   "source": [
    "## Functions"
   ]
  },
  {
   "cell_type": "code",
   "execution_count": null,
   "id": "186860fc-2685-4505-849f-87e8450187d6",
   "metadata": {},
   "outputs": [],
   "source": [
    "def create_env_from_data_path(path, env_roll_frequency):\n",
    "    # Set environment path\n",
    "    experiment_data_path = path\n",
    "    # Load in and format data, convert to array for environment\n",
    "    data_df = solar_env.load_and_format_solar_df(experiment_data_path)\n",
    "    env_reward_array = solar_env.convert_solar_df_to_value_array(data_df, 5)\n",
    "    return SolarEnv(env_reward_array, movement_penalty=0.0001, roll_frequency=env_roll_frequency)"
   ]
  },
  {
   "cell_type": "markdown",
   "id": "70d73db2-9536-41cb-9b68-7af573862f06",
   "metadata": {},
   "source": [
    "## Run Simulation"
   ]
  },
  {
   "cell_type": "markdown",
   "id": "e7cc5b6b-fac7-4195-b75c-29b20347a488",
   "metadata": {},
   "source": [
    "### Env set up for experiment"
   ]
  },
  {
   "cell_type": "code",
   "execution_count": null,
   "id": "a288e7ac-d9be-4c0b-ab77-21cfb821b5b5",
   "metadata": {},
   "outputs": [],
   "source": [
    "# Set environment path\n",
    "experiment_data_path = 'simulation_data/data/initial_environments/yard_light_scan_2022_4_25.csv'\n",
    "# Set environment settings\n",
    "env_roll_frequency = 3600\n",
    "# Create environment\n",
    "sim_env = create_env_from_data_path(experiment_data_path, env_roll_frequency=env_roll_frequency)"
   ]
  },
  {
   "cell_type": "markdown",
   "id": "93d7463c-5e3b-4bb9-8019-1aecce6e8c1b",
   "metadata": {},
   "source": [
    "### Set simulation and agent parameters"
   ]
  },
  {
   "cell_type": "code",
   "execution_count": null,
   "id": "820ccb2a-f14b-4d94-a778-8278fd32b28f",
   "metadata": {},
   "outputs": [],
   "source": [
    "# Set number of simulation steps\n",
    "num_sim_steps = 31536000\n",
    "logging_interval = 3600"
   ]
  },
  {
   "cell_type": "code",
   "execution_count": null,
   "id": "fce4994a-3555-48c4-91ed-60adfd9d29f8",
   "metadata": {},
   "outputs": [],
   "source": [
    "# Set agent hyper\n",
    "agent_parameters = {\n",
    "    'temperature': 0.001,\n",
    "    'actor_step_size': 1.0,\n",
    "    'critic_step_size': 1.0,\n",
    "    'avg_reward_step_size': 1.0\n",
    "}"
   ]
  },
  {
   "cell_type": "code",
   "execution_count": null,
   "id": "d29b6ed9-34d8-4bd8-bc84-c62f0a6c5ed5",
   "metadata": {},
   "outputs": [],
   "source": [
    "total_reward, tracking_df = ef.run_agent_experiment(sim_env, steps=num_sim_steps, seed=RANDOM_SEED, \n",
    "                                                    day_partitions=24, **agent_parameters, \n",
    "                                                    hide_progress_bar=False, \n",
    "                                                    logging_interval=logging_interval)"
   ]
  },
  {
   "cell_type": "code",
   "execution_count": null,
   "id": "40154c2a-11ad-40f0-8226-01e50fe26513",
   "metadata": {},
   "outputs": [],
   "source": [
    "# Cache the results\n",
    "tracking_df.to_pickle(CACHE_DIR + '/' + 'cache_tracking_df_movement_penalty.pickle')"
   ]
  },
  {
   "cell_type": "code",
   "execution_count": null,
   "id": "e84cb03e-754f-441b-a582-53e1f2d016e5",
   "metadata": {},
   "outputs": [],
   "source": [
    "# Load in the results\n",
    "tracking_df = pd.read_pickle(CACHE_DIR + '/' + 'cache_tracking_df.pickle')"
   ]
  },
  {
   "cell_type": "markdown",
   "id": "fa97dbd1-8cfc-484e-876b-44a70794337d",
   "metadata": {},
   "source": [
    "## Visualize Performance"
   ]
  },
  {
   "cell_type": "code",
   "execution_count": null,
   "id": "e13d36b6-ba51-4470-b391-7950ad29b3af",
   "metadata": {},
   "outputs": [],
   "source": [
    "# Plot the energy generated compared to perfectly optimal energy\n",
    "visualizations.plot_energy_by_day(tracking_df, sim_env, height=600, width=800)"
   ]
  },
  {
   "cell_type": "code",
   "execution_count": null,
   "id": "1daa521a-5402-4b3a-a1cf-7f1edd2d8330",
   "metadata": {},
   "outputs": [],
   "source": [
    "# Plot the agents rolling power and delta values\n",
    "visualizations.plot_rolling_power(tracking_df, sim_env, height=600, width=800)"
   ]
  },
  {
   "cell_type": "markdown",
   "id": "297bb962-378b-4d99-9f3f-b00084c141bb",
   "metadata": {},
   "source": [
    "Explore miscellanous things"
   ]
  },
  {
   "cell_type": "markdown",
   "id": "82549cbd-945f-487c-aa26-75d28152aef3",
   "metadata": {},
   "source": [
    "**State Visits by Day**"
   ]
  },
  {
   "cell_type": "code",
   "execution_count": null,
   "id": "f62f4b99-cbd1-49b6-95c3-585895cefec4",
   "metadata": {},
   "outputs": [],
   "source": [
    "state_visits_downsampled = tracking_df[tracking_df['step']%86400==0]"
   ]
  },
  {
   "cell_type": "code",
   "execution_count": null,
   "id": "cb9e7ce3-e8d1-4758-9fb9-556c3430d067",
   "metadata": {},
   "outputs": [],
   "source": [
    "visualizations.plot_array_evolution(state_visits_downsampled['state_visits'].to_list(), step_interval=1, step_name='Day')"
   ]
  },
  {
   "cell_type": "markdown",
   "id": "d553a69a-497e-4d01-9f81-5a73141e4f77",
   "metadata": {},
   "source": [
    "**State Visits by Hour, First 5 Days**"
   ]
  },
  {
   "cell_type": "code",
   "execution_count": null,
   "id": "00c60780-d935-4d7e-b8fb-575c39b3dae6",
   "metadata": {},
   "outputs": [],
   "source": [
    "first_five_days = tracking_df[(tracking_df['step'] <= 86400*5) & (tracking_df['step']%3600==0)]"
   ]
  },
  {
   "cell_type": "code",
   "execution_count": null,
   "id": "6cb31934-8506-4696-ab10-afd4db823724",
   "metadata": {},
   "outputs": [],
   "source": [
    "first_five_days['state_visits_shift'] = first_five_days['state_visits'].shift(1)"
   ]
  },
  {
   "cell_type": "code",
   "execution_count": null,
   "id": "ae4edebc-7ec6-4664-8b87-7192ddb89090",
   "metadata": {},
   "outputs": [],
   "source": [
    "first_five_days.dropna(inplace=True)"
   ]
  },
  {
   "cell_type": "code",
   "execution_count": null,
   "id": "2b234274-1251-4653-b501-4a499fc5602b",
   "metadata": {},
   "outputs": [],
   "source": [
    "first_five_days['state_visits_diff'] = first_five_days['state_visits'] - first_five_days['state_visits_shift']"
   ]
  },
  {
   "cell_type": "code",
   "execution_count": null,
   "id": "3c91c4ff-6ed4-48e6-906f-a203c93b2b6b",
   "metadata": {},
   "outputs": [],
   "source": [
    "visualizations.plot_array_evolution(first_five_days['state_visits_diff'].to_list(), step_interval=1, step_name='Hour')"
   ]
  },
  {
   "cell_type": "markdown",
   "id": "af56f456-1db1-4d39-b474-90cb64e72394",
   "metadata": {},
   "source": [
    "**Env Rewards by Hour, First 2 Days**"
   ]
  },
  {
   "cell_type": "code",
   "execution_count": null,
   "id": "ed3768b3-6163-493a-83b1-83f91d0fe556",
   "metadata": {},
   "outputs": [],
   "source": [
    "env_downsampled = tracking_df[(tracking_df['step'] <= 86400*2) & (tracking_df['step']%3600==0)]['env_rewards']"
   ]
  },
  {
   "cell_type": "code",
   "execution_count": null,
   "id": "bdc6a9d3-dead-4cb1-a89d-cf9b315d1f86",
   "metadata": {},
   "outputs": [],
   "source": [
    "visualizations.plot_array_evolution(env_downsampled.to_list(), step_interval=1, step_name='hour')"
   ]
  },
  {
   "cell_type": "code",
   "execution_count": null,
   "id": "f7d27c2f-e363-4ab9-83fd-0674ee90bb9e",
   "metadata": {},
   "outputs": [],
   "source": []
  }
 ],
 "metadata": {
  "kernelspec": {
   "display_name": "Python 3 (ipykernel)",
   "language": "python",
   "name": "python3"
  },
  "language_info": {
   "codemirror_mode": {
    "name": "ipython",
    "version": 3
   },
   "file_extension": ".py",
   "mimetype": "text/x-python",
   "name": "python",
   "nbconvert_exporter": "python",
   "pygments_lexer": "ipython3",
   "version": "3.9.9"
  }
 },
 "nbformat": 4,
 "nbformat_minor": 5
}
